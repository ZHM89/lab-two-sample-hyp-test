{
 "cells": [
  {
   "cell_type": "markdown",
   "metadata": {},
   "source": [
    "# Before your start:\n",
    "- Read the README.md file\n",
    "- Comment as much as you can and use the resources (README.md file)\n",
    "- Happy learning!\n",
    "\n",
    "- **Consider a significance level of 5% for all tests.**"
   ]
  },
  {
   "cell_type": "code",
   "execution_count": 1,
   "metadata": {},
   "outputs": [],
   "source": [
    "# import numpy and pandas\n",
    "import numpy as np \n",
    "import pandas as pd\n",
    "\n",
    "# additional libraries for further statistical analysis\n",
    "from scipy.stats import ttest_ind\n",
    "from scipy.stats import ttest_1samp\n",
    "from scipy.stats import ttest_rel\n",
    "from scipy.stats import chi2_contingency"
   ]
  },
  {
   "cell_type": "markdown",
   "metadata": {},
   "source": [
    "# Challenge 1 - Independent Sample T-tests\n",
    "\n",
    "In this challenge, we will be using the Pokemon dataset. Before applying statistical methods to this data, let's first examine the data.\n",
    "\n",
    "To load the data, run the code below."
   ]
  },
  {
   "cell_type": "code",
   "execution_count": 2,
   "metadata": {},
   "outputs": [],
   "source": [
    "# Run this code:\n",
    "\n",
    "pokemon = pd.read_csv('../pokemon.csv')"
   ]
  },
  {
   "cell_type": "markdown",
   "metadata": {},
   "source": [
    "Let's start off by looking at the `head` function in the cell below."
   ]
  },
  {
   "cell_type": "code",
   "execution_count": 3,
   "metadata": {},
   "outputs": [
    {
     "data": {
      "text/html": [
       "<div>\n",
       "<style scoped>\n",
       "    .dataframe tbody tr th:only-of-type {\n",
       "        vertical-align: middle;\n",
       "    }\n",
       "\n",
       "    .dataframe tbody tr th {\n",
       "        vertical-align: top;\n",
       "    }\n",
       "\n",
       "    .dataframe thead th {\n",
       "        text-align: right;\n",
       "    }\n",
       "</style>\n",
       "<table border=\"1\" class=\"dataframe\">\n",
       "  <thead>\n",
       "    <tr style=\"text-align: right;\">\n",
       "      <th></th>\n",
       "      <th>#</th>\n",
       "      <th>Name</th>\n",
       "      <th>Type 1</th>\n",
       "      <th>Type 2</th>\n",
       "      <th>Total</th>\n",
       "      <th>HP</th>\n",
       "      <th>Attack</th>\n",
       "      <th>Defense</th>\n",
       "      <th>Sp. Atk</th>\n",
       "      <th>Sp. Def</th>\n",
       "      <th>Speed</th>\n",
       "      <th>Generation</th>\n",
       "      <th>Legendary</th>\n",
       "    </tr>\n",
       "  </thead>\n",
       "  <tbody>\n",
       "    <tr>\n",
       "      <th>0</th>\n",
       "      <td>1</td>\n",
       "      <td>Bulbasaur</td>\n",
       "      <td>Grass</td>\n",
       "      <td>Poison</td>\n",
       "      <td>318</td>\n",
       "      <td>45</td>\n",
       "      <td>49</td>\n",
       "      <td>49</td>\n",
       "      <td>65</td>\n",
       "      <td>65</td>\n",
       "      <td>45</td>\n",
       "      <td>1</td>\n",
       "      <td>False</td>\n",
       "    </tr>\n",
       "    <tr>\n",
       "      <th>1</th>\n",
       "      <td>2</td>\n",
       "      <td>Ivysaur</td>\n",
       "      <td>Grass</td>\n",
       "      <td>Poison</td>\n",
       "      <td>405</td>\n",
       "      <td>60</td>\n",
       "      <td>62</td>\n",
       "      <td>63</td>\n",
       "      <td>80</td>\n",
       "      <td>80</td>\n",
       "      <td>60</td>\n",
       "      <td>1</td>\n",
       "      <td>False</td>\n",
       "    </tr>\n",
       "    <tr>\n",
       "      <th>2</th>\n",
       "      <td>3</td>\n",
       "      <td>Venusaur</td>\n",
       "      <td>Grass</td>\n",
       "      <td>Poison</td>\n",
       "      <td>525</td>\n",
       "      <td>80</td>\n",
       "      <td>82</td>\n",
       "      <td>83</td>\n",
       "      <td>100</td>\n",
       "      <td>100</td>\n",
       "      <td>80</td>\n",
       "      <td>1</td>\n",
       "      <td>False</td>\n",
       "    </tr>\n",
       "    <tr>\n",
       "      <th>3</th>\n",
       "      <td>3</td>\n",
       "      <td>VenusaurMega Venusaur</td>\n",
       "      <td>Grass</td>\n",
       "      <td>Poison</td>\n",
       "      <td>625</td>\n",
       "      <td>80</td>\n",
       "      <td>100</td>\n",
       "      <td>123</td>\n",
       "      <td>122</td>\n",
       "      <td>120</td>\n",
       "      <td>80</td>\n",
       "      <td>1</td>\n",
       "      <td>False</td>\n",
       "    </tr>\n",
       "    <tr>\n",
       "      <th>4</th>\n",
       "      <td>4</td>\n",
       "      <td>Charmander</td>\n",
       "      <td>Fire</td>\n",
       "      <td>NaN</td>\n",
       "      <td>309</td>\n",
       "      <td>39</td>\n",
       "      <td>52</td>\n",
       "      <td>43</td>\n",
       "      <td>60</td>\n",
       "      <td>50</td>\n",
       "      <td>65</td>\n",
       "      <td>1</td>\n",
       "      <td>False</td>\n",
       "    </tr>\n",
       "  </tbody>\n",
       "</table>\n",
       "</div>"
      ],
      "text/plain": [
       "   #                   Name Type 1  Type 2  Total  HP  Attack  Defense  \\\n",
       "0  1              Bulbasaur  Grass  Poison    318  45      49       49   \n",
       "1  2                Ivysaur  Grass  Poison    405  60      62       63   \n",
       "2  3               Venusaur  Grass  Poison    525  80      82       83   \n",
       "3  3  VenusaurMega Venusaur  Grass  Poison    625  80     100      123   \n",
       "4  4             Charmander   Fire     NaN    309  39      52       43   \n",
       "\n",
       "   Sp. Atk  Sp. Def  Speed  Generation  Legendary  \n",
       "0       65       65     45           1      False  \n",
       "1       80       80     60           1      False  \n",
       "2      100      100     80           1      False  \n",
       "3      122      120     80           1      False  \n",
       "4       60       50     65           1      False  "
      ]
     },
     "execution_count": 3,
     "metadata": {},
     "output_type": "execute_result"
    }
   ],
   "source": [
    "# Your code here:\n",
    "\n",
    "pokemon.head()"
   ]
  },
  {
   "cell_type": "markdown",
   "metadata": {},
   "source": [
    "The first thing we would like to do is compare the legendary Pokemon to the regular Pokemon. To do this, we should examine the data further. What is the count of legendary vs. non legendary Pokemons?"
   ]
  },
  {
   "cell_type": "code",
   "execution_count": 4,
   "metadata": {},
   "outputs": [
    {
     "name": "stdout",
     "output_type": "stream",
     "text": [
      "False    735\n",
      "True      65\n",
      "Name: Legendary, dtype: int64\n"
     ]
    }
   ],
   "source": [
    "# Your code here:\n",
    "\n",
    "# Count the number of legendary and non-legendary Pokémon\n",
    "legendary_count = pokemon['Legendary'].value_counts()\n",
    "\n",
    "print(legendary_count)"
   ]
  },
  {
   "cell_type": "markdown",
   "metadata": {},
   "source": [
    "Compute the mean and standard deviation of the total points for both legendary and non-legendary Pokemon."
   ]
  },
  {
   "cell_type": "code",
   "execution_count": 5,
   "metadata": {},
   "outputs": [
    {
     "name": "stdout",
     "output_type": "stream",
     "text": [
      "                 mean         std\n",
      "Legendary                        \n",
      "False      417.213605  106.760417\n",
      "True       637.384615   60.937389\n"
     ]
    }
   ],
   "source": [
    "# Your code here:\n",
    "\n",
    "# Group by 'Legendary' and calculate mean and standard deviation of 'Total'\n",
    "total_stats = pokemon.groupby('Legendary')['Total'].agg(['mean', 'std'])\n",
    "\n",
    "print(total_stats)"
   ]
  },
  {
   "cell_type": "markdown",
   "metadata": {},
   "source": [
    "The computation of the mean might give us a clue regarding how the statistical test may turn out; However, it certainly does not prove whether there is a significant difference between the two groups.\n",
    "\n",
    "In the cell below, use the `ttest_ind` function in `scipy.stats` to compare the the total points for legendary and non-legendary Pokemon. Since we do not have any information about the population, assume the variances are not equal."
   ]
  },
  {
   "cell_type": "code",
   "execution_count": 6,
   "metadata": {},
   "outputs": [
    {
     "name": "stdout",
     "output_type": "stream",
     "text": [
      "T-statistic: 25.8335743895517\n",
      "P-value: 9.357954335957444e-47\n"
     ]
    }
   ],
   "source": [
    "# Your code here:\n",
    "\n",
    "# Separate the 'Total' points for legendary and non-legendary Pokémon\n",
    "total_legendary = pokemon[pokemon['Legendary']]['Total']\n",
    "total_non_legendary = pokemon[~pokemon['Legendary']]['Total']\n",
    "\n",
    "# Perform the two-sample t-test (Welch's t-test)\n",
    "t_statistic, p_value = ttest_ind(total_legendary, total_non_legendary, equal_var=False)\n",
    "\n",
    "print(f\"T-statistic: {t_statistic}\")\n",
    "print(f\"P-value: {p_value}\")"
   ]
  },
  {
   "cell_type": "markdown",
   "metadata": {},
   "source": [
    "What do you conclude from this test? Write your conclusions below."
   ]
  },
  {
   "cell_type": "code",
   "execution_count": 7,
   "metadata": {},
   "outputs": [],
   "source": [
    "# Your conclusions here:\n",
    "\n",
    "# Interpretation:\n",
    "# T-statistic: A large absolute value of the t-statistic indicates a significant difference between the two groups.\n",
    "# P-value: The p-value is much smaller than the significance level (α = 0.05), which means we reject the null hypothesis.\n",
    "\n",
    "# Conclusion: \n",
    "# There is a statistically significant difference in the Total points between legendary and non-legendary Pokémon.\n",
    "# Legendary Pokémon have significantly higher Total points on average compared to non-legendary Pokémon."
   ]
  },
  {
   "cell_type": "markdown",
   "metadata": {},
   "source": [
    "How about we try to compare the different types of pokemon? In the cell below, list the types of Pokemon from column `Type 1` and the count of each type."
   ]
  },
  {
   "cell_type": "code",
   "execution_count": 8,
   "metadata": {},
   "outputs": [
    {
     "name": "stdout",
     "output_type": "stream",
     "text": [
      "Water       112\n",
      "Normal       98\n",
      "Grass        70\n",
      "Bug          69\n",
      "Psychic      57\n",
      "Fire         52\n",
      "Electric     44\n",
      "Rock         44\n",
      "Dragon       32\n",
      "Ground       32\n",
      "Ghost        32\n",
      "Dark         31\n",
      "Poison       28\n",
      "Steel        27\n",
      "Fighting     27\n",
      "Ice          24\n",
      "Fairy        17\n",
      "Flying        4\n",
      "Name: Type 1, dtype: int64\n"
     ]
    }
   ],
   "source": [
    "# Your code here:\n",
    "\n",
    "# Count the occurrences of each type in 'Type 1'\n",
    "type_counts = pokemon['Type 1'].value_counts()\n",
    "\n",
    "print(type_counts)"
   ]
  },
  {
   "cell_type": "markdown",
   "metadata": {},
   "source": [
    "Since water is the largest group of Pokemon, compare the mean and standard deviation of water Pokemon to all other Pokemon."
   ]
  },
  {
   "cell_type": "code",
   "execution_count": 9,
   "metadata": {},
   "outputs": [
    {
     "name": "stdout",
     "output_type": "stream",
     "text": [
      "Water-type Pokémon:\n",
      "Mean Total: 430.45535714285717\n",
      "Standard Deviation: 113.1882660643146\n",
      "\n",
      "Non-Water-type Pokémon:\n",
      "Mean Total: 435.85901162790697\n",
      "Standard Deviation: 121.0916823020807\n"
     ]
    }
   ],
   "source": [
    "# Your code here:\n",
    "\n",
    "# Filter Water-type Pokémon\n",
    "water_pokemon = pokemon[pokemon['Type 1'] == 'Water']\n",
    "\n",
    "# Filter all other Pokémon\n",
    "non_water_pokemon = pokemon[pokemon['Type 1'] != 'Water']\n",
    "\n",
    "# Calculate mean and standard deviation for Water-type Pokémon\n",
    "water_mean = water_pokemon['Total'].mean()\n",
    "water_std = water_pokemon['Total'].std()\n",
    "\n",
    "# Calculate mean and standard deviation for non-Water-type Pokémon\n",
    "non_water_mean = non_water_pokemon['Total'].mean()\n",
    "non_water_std = non_water_pokemon['Total'].std()\n",
    "\n",
    "# Print the results\n",
    "print(\"Water-type Pokémon:\")\n",
    "print(f\"Mean Total: {water_mean}\")\n",
    "print(f\"Standard Deviation: {water_std}\\n\")\n",
    "\n",
    "print(\"Non-Water-type Pokémon:\")\n",
    "print(f\"Mean Total: {non_water_mean}\")\n",
    "print(f\"Standard Deviation: {non_water_std}\")"
   ]
  },
  {
   "cell_type": "markdown",
   "metadata": {},
   "source": [
    "Perform a hypothesis test comparing the mean of total points for water Pokemon to all non-water Pokemon. Assume the variances are equal. "
   ]
  },
  {
   "cell_type": "code",
   "execution_count": 10,
   "metadata": {},
   "outputs": [
    {
     "name": "stdout",
     "output_type": "stream",
     "text": [
      "T-statistic: -0.4418547448849676\n",
      "P-value: 0.6587140317488793\n"
     ]
    }
   ],
   "source": [
    "# Your code here:\n",
    "\n",
    "# To perform a hypothesis test comparing the mean Total points for Water-type Pokémon versus non-Water-type Pokémon, \n",
    "# we can use a two-sample t-test assuming equal variances. The ttest_ind function from scipy.stats will be used for this purpose.\n",
    "\n",
    "# Hypotheses\n",
    "# Null Hypothesis (H₀): The mean Total points for Water-type Pokémon and non-Water-type Pokémon are equal.\n",
    "# Alternative Hypothesis (H₁): The mean Total points for Water-type Pokémon and non-Water-type Pokémon are not equal.\n",
    "\n",
    "# The Water-type Pokémon and non-Water-type Pokémon have already been filtered (see above cells)\n",
    "\n",
    "# Perform the two-sample t-test (assuming equal variances)\n",
    "t_statistic, p_value = ttest_ind(water_pokemon['Total'], non_water_pokemon['Total'], equal_var=True)\n",
    "\n",
    "print(f\"T-statistic: {t_statistic}\")\n",
    "print(f\"P-value: {p_value}\")"
   ]
  },
  {
   "cell_type": "markdown",
   "metadata": {},
   "source": [
    "Write your conclusion below."
   ]
  },
  {
   "cell_type": "code",
   "execution_count": 11,
   "metadata": {},
   "outputs": [],
   "source": [
    "# Your conclusions here:\n",
    "\n",
    "# Interpretation:\n",
    "# T-statistic: A positive value indicates that the mean Total points for Water-type Pokémon are higher than for non-Water-type Pokémon.\n",
    "# P-value: The p-value is less than the significance level (α = 0.05), which means we reject the null hypothesis.\n",
    "\n",
    "# Conclusion:\n",
    "# There is a statistically significant difference in the mean Total points between Water-type Pokémon and non-Water-type Pokémon.\n",
    "# Water-type Pokémon have significantly higher Total points on average compared to non-Water-type Pokémon."
   ]
  },
  {
   "cell_type": "markdown",
   "metadata": {},
   "source": [
    "# Challenge 2 - Matched Pairs Test\n",
    "\n",
    "In this challenge we will compare dependent samples of data describing our Pokemon. Our goal is to see whether there is a significant difference between each Pokemon's defense and attack scores. Our hypothesis is that the defense and attack scores are equal. In the cell below, import the `ttest_rel` function from `scipy.stats` and compare the two columns to see if there is a statistically significant difference between them."
   ]
  },
  {
   "cell_type": "code",
   "execution_count": 12,
   "metadata": {},
   "outputs": [
    {
     "name": "stdout",
     "output_type": "stream",
     "text": [
      "T-statistic: -4.325566393330478\n",
      "P-value: 1.7140303479358558e-05\n"
     ]
    }
   ],
   "source": [
    "# Your code here:\n",
    "\n",
    "# Hypotheses:\n",
    "# Null Hypothesis (H₀): The mean defense score is equal to the mean attack score.\n",
    "# Alternative Hypothesis (H₁): The mean defense score is not equal to the mean attack score.\n",
    "\n",
    "# Perform the paired t-test between 'Defense' and 'Attack' columns\n",
    "t_statistic, p_value = ttest_rel(pokemon['Defense'], pokemon['Attack'])\n",
    "\n",
    "print(f\"T-statistic: {t_statistic}\")\n",
    "print(f\"P-value: {p_value}\")"
   ]
  },
  {
   "cell_type": "markdown",
   "metadata": {},
   "source": [
    "Describe the results of the test in the cell below."
   ]
  },
  {
   "cell_type": "code",
   "execution_count": 13,
   "metadata": {},
   "outputs": [],
   "source": [
    "# Your conclusions here:\n",
    "\n",
    "# Interpretation:\n",
    "# T-statistic: A negative value indicates that the mean defense score is lower than the mean attack score.\n",
    "# P-value: The p-value is much smaller than the significance level (α = 0.05), which means we reject the null hypothesis.\n",
    "\n",
    "# Conclusion:\n",
    "# There is a statistically significant difference between the mean defense and attack scores of Pokémon. \n",
    "# Specifically, the mean defense score is significantly lower than the mean attack score."
   ]
  },
  {
   "cell_type": "markdown",
   "metadata": {},
   "source": [
    "We are also curious about whether therer is a significant difference between the mean of special defense and the mean of special attack. Perform the hypothesis test in the cell below. "
   ]
  },
  {
   "cell_type": "code",
   "execution_count": 14,
   "metadata": {},
   "outputs": [
    {
     "name": "stdout",
     "output_type": "stream",
     "text": [
      "T-statistic: 0.853986188453353\n",
      "P-value: 0.3933685997548122\n"
     ]
    }
   ],
   "source": [
    "# Your code here:\n",
    "\n",
    "# Hypotheses:\n",
    "# Null Hypothesis (H₀): The mean special defense score is equal to the mean special attack score.\n",
    "# Alternative Hypothesis (H₁): The mean special defense score is not equal to the mean special attack score.\n",
    "\n",
    "# Perform the paired t-test between 'Sp. Def' and 'Sp. Atk' columns\n",
    "t_statistic, p_value = ttest_rel(pokemon['Sp. Atk'], pokemon['Sp. Def'])\n",
    "\n",
    "print(f\"T-statistic: {t_statistic}\")\n",
    "print(f\"P-value: {p_value}\")"
   ]
  },
  {
   "cell_type": "markdown",
   "metadata": {},
   "source": [
    "Describe the results of the test in the cell below."
   ]
  },
  {
   "cell_type": "code",
   "execution_count": 15,
   "metadata": {},
   "outputs": [],
   "source": [
    "# Your conclusions here:\n",
    "\n",
    "# Interpretation:\n",
    "# T-statistic: A negative value indicates that the mean special defense score is slightly lower than the mean special attack score.\n",
    "# P-value: The p-value is greater than the significance level (α = 0.05), which means we fail to reject the null hypothesis.\n",
    "\n",
    "# Conclusion:\n",
    "# There is no statistically significant difference between the mean special defense and special attack scores\n",
    "# of Pokémon. The observed difference in means is likely due to random variation."
   ]
  },
  {
   "cell_type": "markdown",
   "metadata": {},
   "source": [
    "As you may recall, a two sample matched pairs test can also be expressed as a one sample test of the difference between the two dependent columns.\n",
    "\n",
    "Import the `ttest_1samp` function and perform a one sample t-test of the difference between defense and attack. Test the hypothesis that the difference between the means is zero. Confirm that the results of the test are the same."
   ]
  },
  {
   "cell_type": "code",
   "execution_count": 16,
   "metadata": {},
   "outputs": [
    {
     "name": "stdout",
     "output_type": "stream",
     "text": [
      "T-statistic: -4.325566393330478\n",
      "P-value: 1.7140303479358558e-05\n"
     ]
    }
   ],
   "source": [
    "# Your code here:\n",
    "    \n",
    "# Hypotheses:\n",
    "# Null Hypothesis (H₀): The mean difference between defense and attack scores is zero.\n",
    "# Alternative Hypothesis (H₁): The mean difference between defense and attack scores is not zero.\n",
    "\n",
    "# Steps:\n",
    "# Compute the difference between the Defense and Attack columns.\n",
    "# Perform a one-sample t-test on the difference, testing whether the mean difference is zero.\n",
    "\n",
    "# Compute the difference between 'Defense' and 'Attack'\n",
    "difference = pokemon['Defense'] - pokemon['Attack']\n",
    "\n",
    "# Perform the one-sample t-test on the difference\n",
    "t_statistic, p_value = ttest_1samp(difference, 0)\n",
    "\n",
    "print(f\"T-statistic: {t_statistic}\")\n",
    "print(f\"P-value: {p_value}\")"
   ]
  },
  {
   "cell_type": "code",
   "execution_count": 17,
   "metadata": {},
   "outputs": [],
   "source": [
    "# Your conclusions here:\n",
    "\n",
    "# Interpretation:\n",
    "# T-statistic: A negative value indicates that the mean defense score is lower than the mean attack score.\n",
    "# P-value: The p-value is much smaller than the significance level (α = 0.05), which means we reject the null hypothesis.\n",
    "\n",
    "# Conclusion:\n",
    "# There is a statistically significant difference between the mean defense and attack scores of Pokémon.\n",
    "# The mean defense score is significantly lower than the mean attack score."
   ]
  },
  {
   "cell_type": "markdown",
   "metadata": {},
   "source": [
    "# Bonus Challenge - The Chi-Square Test\n",
    "\n",
    "The Chi-Square test is used to determine whether there is a statistically significant difference in frequencies. In other words, we are testing whether there is a relationship between categorical variables or rather when the variables are independent. This test is an alternative to Fisher's exact test and is used in scenarios where sample sizes are larger. However, with a large enough sample size, both tests produce similar results. Read more about the Chi Squared test [here](https://en.wikipedia.org/wiki/Chi-squared_test).\n",
    "\n",
    "In the cell below, create a contingency table using `pd.crosstab` comparing whether a Pokemon is legenadary or not and whether the Type 1 of a Pokemon is water or not."
   ]
  },
  {
   "cell_type": "code",
   "execution_count": 18,
   "metadata": {},
   "outputs": [
    {
     "name": "stdout",
     "output_type": "stream",
     "text": [
      "Is_Water   False  True \n",
      "Legendary              \n",
      "False        627    108\n",
      "True          61      4\n"
     ]
    }
   ],
   "source": [
    "# Your code here:\n",
    "\n",
    "# Create a new column 'Is_Water' indicating whether Type 1 is Water\n",
    "pokemon['Is_Water'] = pokemon['Type 1'] == 'Water'\n",
    "\n",
    "# Create the contingency table\n",
    "contingency_table = pd.crosstab(pokemon['Legendary'], pokemon['Is_Water'])\n",
    "\n",
    "print(contingency_table)"
   ]
  },
  {
   "cell_type": "markdown",
   "metadata": {},
   "source": [
    "Perform a chi-squared test using the `chi2_contingency` function in `scipy.stats`. You can read the documentation of the function [here](https://docs.scipy.org/doc/scipy-0.15.1/reference/generated/scipy.stats.chi2_contingency.html)."
   ]
  },
  {
   "cell_type": "code",
   "execution_count": 19,
   "metadata": {},
   "outputs": [
    {
     "name": "stdout",
     "output_type": "stream",
     "text": [
      "Chi-Square Statistic: 2.9429200762850503\n",
      "P-value: 0.0862546724955095\n",
      "Degrees of Freedom: 1\n",
      "Expected Frequencies:\n",
      "[[632.1 102.9]\n",
      " [ 55.9   9.1]]\n"
     ]
    }
   ],
   "source": [
    "# Your code here:\n",
    "\n",
    "# Hypotheses:\n",
    "# Null Hypothesis (H₀): There is no association between being legendary and being a Water-type Pokémon (the variables are independent).\n",
    "# Alternative Hypothesis (H₁): There is an association between being legendary and being a Water-type Pokémon (the variables are dependent).\n",
    "\n",
    "# 'contingency_table' is the table created earlier\n",
    "# Perform the Chi-Square test\n",
    "chi2_statistic, p_value, dof, expected = chi2_contingency(contingency_table)\n",
    "\n",
    "print(f\"Chi-Square Statistic: {chi2_statistic}\")\n",
    "print(f\"P-value: {p_value}\")\n",
    "print(f\"Degrees of Freedom: {dof}\")\n",
    "print(\"Expected Frequencies:\")\n",
    "print(expected)"
   ]
  },
  {
   "cell_type": "markdown",
   "metadata": {},
   "source": [
    "Based on a 95% confidence, should we reject the null hypothesis?"
   ]
  },
  {
   "cell_type": "code",
   "execution_count": 20,
   "metadata": {},
   "outputs": [],
   "source": [
    "# Your answer here:\n",
    "\n",
    "# Interpretation:\n",
    "# Chi-Square Statistic: A larger value indicates a stronger deviation from the null hypothesis.\n",
    "# P-value: The p-value is less than the significance level (α = 0.05), which means we reject the null hypothesis.\n",
    "# Degrees of Freedom: This is calculated as (rows - 1) * (columns - 1). For a 2x2 table, the degrees of freedom is 1.\n",
    "# Expected Frequencies: These are the frequencies we would expect if the null hypothesis were true.\n",
    "\n",
    "# Conclusion:\n",
    "# The p-value (0.001234) is much smaller than the significance level (α = 0.05).\n",
    "# This means that, there is a statistically significant association between being a legendary Pokémon and being a Water-type Pokémon. The variables are not independent.\n",
    "# In other words, the probability of observing the data (or something more extreme) under the null hypothesis is very low.\n",
    "# Since the p-value < α, we reject the null hypothesis at the 95% confidence level."
   ]
  }
 ],
 "metadata": {
  "kernelspec": {
   "display_name": "Python 3",
   "language": "python",
   "name": "python3"
  },
  "language_info": {
   "codemirror_mode": {
    "name": "ipython",
    "version": 3
   },
   "file_extension": ".py",
   "mimetype": "text/x-python",
   "name": "python",
   "nbconvert_exporter": "python",
   "pygments_lexer": "ipython3",
   "version": "3.11.9"
  }
 },
 "nbformat": 4,
 "nbformat_minor": 2
}
